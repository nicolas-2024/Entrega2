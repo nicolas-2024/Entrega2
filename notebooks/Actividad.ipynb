{
 "cells": [
  {
   "cell_type": "code",
   "execution_count": 1,
   "metadata": {},
   "outputs": [],
   "source": [
    "import sys\n",
    "import os\n",
    "\n",
    "# Obtener la ruta absoluta del directorio raíz del proyecto\n",
    "sys.path.append(os.path.abspath(\"../src\"))\n",
    "from functions import *\n",
    "#ACLARACION: Para ejecutar cada celda deberas ejecutar esta celda primero!."
   ]
  },
  {
   "cell_type": "code",
   "execution_count": 2,
   "metadata": {},
   "outputs": [
    {
     "name": "stdout",
     "output_type": "stream",
     "text": [
      "The Zen of Python, by Tim Peters\n",
      "\n",
      "Beautiful is better than ugly.\n",
      "Explicit is better than implicit.\n",
      "Simple is better than complex.\n",
      "Complex is better than complicated.\n",
      "Flat is better than nested.\n",
      "Sparse is better than dense.\n",
      "Readability counts.\n",
      "Special cases aren't special enough to break the rules.\n",
      "Although practicality beats purity.\n",
      "Errors should never pass silently.\n",
      "Unless explicitly silenced.\n",
      "In the face of ambiguity, refuse the temptation to guess.\n",
      "There should be one-- and preferably only one --obvious way to do it.\n",
      "Although that way may not be obvious at first unless you're Dutch.\n",
      "Now is better than never.\n",
      "Although never is often better than *right* now.\n",
      "If the implementation is hard to explain, it's a bad idea.\n",
      "If the implementation is easy to explain, it may be a good idea.\n",
      "Namespaces are one honking great idea -- let's do more of those!\n"
     ]
    }
   ],
   "source": [
    "#Ejercicio 1\n",
    "import this\n",
    "zen_text = this.s\n",
    "filtro(zen_text)\n"
   ]
  },
  {
   "cell_type": "code",
   "execution_count": 3,
   "metadata": {},
   "outputs": [
    {
     "name": "stdout",
     "output_type": "stream",
     "text": [
      "El título más largo es: Jugando al nuevo FPS del momento con amigos\n"
     ]
    }
   ],
   "source": [
    "#Ejercicio 2\n",
    "titles = [\n",
    "\"Speedrun de Super Mario en tiempo récord\",\n",
    "\"Charla sobre desarrollo de videojuegos\",\n",
    "\"Jugando al nuevo FPS del momento con amigos\",\n",
    "\"Música en vivo: improvisaciones al piano\"\n",
    "]\n",
    "\n",
    "print(f\"El título más largo es: {mayor(titles)}\")"
   ]
  },
  {
   "cell_type": "code",
   "execution_count": 4,
   "metadata": {},
   "outputs": [
    {
     "name": "stdout",
     "output_type": "stream",
     "text": [
      "Respeta a los demás. No se permiten insultos ni lenguaje\n",
      "ofensivo.\n",
      "Evita el spam. No publiques enlaces sospechosos o repetitivos.\n",
      "No compartas información personal.\n",
      "Usa los canales adecuados para cada tema.\n",
      "Sigue las instrucciones de los moderadores.\n"
     ]
    }
   ],
   "source": [
    "#Ejercicio 3\n",
    "rules = \"\"\"Respeta a los demás. No se permiten insultos ni lenguaje\n",
    "ofensivo.\n",
    "Evita el spam. No publiques enlaces sospechosos o repetitivos.\n",
    "No compartas información personal.\n",
    "Usa los canales adecuados para cada tema.\n",
    "Sigue las instrucciones de los moderadores.\"\"\"\n",
    "\n",
    "reglamento(rules)"
   ]
  },
  {
   "cell_type": "code",
   "execution_count": 5,
   "metadata": {},
   "outputs": [
    {
     "name": "stdout",
     "output_type": "stream",
     "text": [
      "Ingrese un nombre de usuario:\n",
      "Nombre de usuario no cumple con los requisitos.\n"
     ]
    }
   ],
   "source": [
    "#Ejercicio 4: Validación de nombre de usuario\n",
    "print(\"Ingrese un nombre de usuario:\")\n",
    "nombre=input()\n",
    "validar(nombre)\n"
   ]
  },
  {
   "cell_type": "code",
   "execution_count": 6,
   "metadata": {},
   "outputs": [
    {
     "name": "stdout",
     "output_type": "stream",
     "text": [
      "Ingrese su tiempo de reacción en ms: \n"
     ]
    },
    {
     "ename": "ValueError",
     "evalue": "invalid literal for int() with base 10: ''",
     "output_type": "error",
     "traceback": [
      "\u001b[31m---------------------------------------------------------------------------\u001b[39m",
      "\u001b[31mValueError\u001b[39m                                Traceback (most recent call last)",
      "\u001b[36mCell\u001b[39m\u001b[36m \u001b[39m\u001b[32mIn[6]\u001b[39m\u001b[32m, line 3\u001b[39m\n\u001b[32m      1\u001b[39m \u001b[38;5;66;03m#Ejercicio 5:  Clasificación de velocidad\u001b[39;00m\n\u001b[32m      2\u001b[39m \u001b[38;5;28mprint\u001b[39m(\u001b[33m\"\u001b[39m\u001b[33mIngrese su tiempo de reacción en ms: \u001b[39m\u001b[33m\"\u001b[39m)\n\u001b[32m----> \u001b[39m\u001b[32m3\u001b[39m tiempo=\u001b[38;5;28;43mint\u001b[39;49m\u001b[43m(\u001b[49m\u001b[38;5;28;43minput\u001b[39;49m\u001b[43m(\u001b[49m\u001b[43m)\u001b[49m\u001b[43m)\u001b[49m\n\u001b[32m      4\u001b[39m clasificar(tiempo)\n",
      "\u001b[31mValueError\u001b[39m: invalid literal for int() with base 10: ''"
     ]
    }
   ],
   "source": [
    "#Ejercicio 5:  Clasificación de velocidad\n",
    "print(\"Ingrese su tiempo de reacción en ms: \")\n",
    "tiempo=int(input())\n",
    "clasificar(tiempo)\n",
    "\n"
   ]
  },
  {
   "cell_type": "code",
   "execution_count": null,
   "metadata": {},
   "outputs": [],
   "source": [
    "#Ejercicio 6: Analisis\n",
    "descriptions = [\n",
    "\"Streaming de música en vivo con covers y composiciones\",\n",
    "\"Charla interactiva con la audiencia sobre series y películas\",\n",
    "\"Jugamos a juegos retro y charlamos sobre su historia\",\n",
    "\"Exploramos la mejor música de los 80s y 90s\",\n",
    "\"Programa de entretenimiento con noticias y curiosidades del mundo gamer\",\n",
    "\"Sesión de charla con invitados especiales del mundo del streaming\",\n",
    "\"Música en directo con improvisaciones y peticiones del chat\",\n",
    "\"Un espacio para charlar relajada sobre tecnología y cultura digital\",\n",
    "\"Exploramos el impacto de la música en los videojuegos clásicos\"\n",
    "]\n",
    "menciones(descriptions)\n",
    "\n",
    "\n",
    "\n",
    "\n"
   ]
  },
  {
   "cell_type": "code",
   "execution_count": null,
   "metadata": {},
   "outputs": [],
   "source": [
    "#ejercicio 7: Generador codigos de descuento\n",
    "print(\"Usuario: \")\n",
    "user=input()\n",
    "print(\"fecha: \")\n",
    "fecha=input()\n",
    "generar(user,fecha)\n"
   ]
  },
  {
   "cell_type": "code",
   "execution_count": null,
   "metadata": {},
   "outputs": [],
   "source": [
    "#Ejercicio 8: Identificación de anagramas\n",
    "print(\"Ingrese la primera palabra:\")\n",
    "pri=input().strip().lower()\n",
    "print(\"Ingrese la segunda palabra:\")\n",
    "seg=input().strip().lower()\n",
    "identificar(pri,seg)\n",
    "\n",
    "\n",
    " "
   ]
  },
  {
   "cell_type": "code",
   "execution_count": null,
   "metadata": {},
   "outputs": [],
   "source": [
    "#Ejercicio 9: Limpieza de Datos\n",
    "clients = [\n",
    "\" Ana López \", \"Pedro Gómez\", \"maria martínez\", \"Pedro Gómez \", \"\",\n",
    "\" Luis Rodríguez \", None, \"ana lópez\", \"JUAN PÉREZ\", \"MARTA SUÁREZ\",\n",
    "\"luis rodríguez\", \"maría martínez \", \" claudia torres\", \"CLAUDIA TORRES\",\n",
    "\" \", \"pedro gómez\", \"Juan Pérez\", None, \"Ricardo Fernández\", \"LAURA RAMOS\",\n",
    "\"carlos mendes\", \"RICARDO FERNÁNDEZ \", \" Laura ramos\", \"CARLOS MENDES\",\n",
    "\"alejandro gonzález\", \" ALEJANDRO GONZÁLEZ \", \"Patricia Vega\",\n",
    "\"patricia VEGA\", \"Andrés Ocampo\", \" andrés ocampo\", \"Monica Herrera\",\n",
    "\"MONICA HERRERA \", \"gabriela ruíz\", \"Gabriela Ruíz\", \"sandra morales\",\n",
    "\"SANDRA MORALES\", \"miguel ángel\", \"Miguel Ángel \", \" Damián Castillo\",\n",
    "\"Damián Castillo \", None, \"\", \" \"\n",
    "]\n",
    "print(Limpiar(clients))\n",
    "\n"
   ]
  },
  {
   "cell_type": "code",
   "execution_count": 7,
   "metadata": {},
   "outputs": [
    {
     "name": "stdout",
     "output_type": "stream",
     "text": [
      "Ranking ronda 1\n",
      "| Jugador   | Kills | Asistencias | Muertes | MVP  | Puntos |\n",
      "-----------------------------------------------------------\n",
      "| Shadow    | 2     | 1          | 1     | 1     | 6     |\n",
      "-----------------------------------------------------------\n",
      "| Viper     | 1     | 2          | 1     | 0     | 4     |\n",
      "-----------------------------------------------------------\n",
      "| Reaper    | 1     | 1          | 0     | 0     | 4     |\n",
      "-----------------------------------------------------------\n",
      "| Blaze     | 1     | 0          | 0     | 0     | 3     |\n",
      "-----------------------------------------------------------\n",
      "| Frost     | 0     | 1          | 0     | 0     | 1     |\n",
      "-----------------------------------------------------------\n",
      "Ranking ronda 2\n",
      "| Jugador   | Kills | Asistencias | Muertes | MVP  | Puntos |\n",
      "-----------------------------------------------------------\n",
      "| Shadow    | 2     | 3          | 1     | 1     | 8     |\n",
      "-----------------------------------------------------------\n",
      "| Blaze     | 3     | 0          | 1     | 0     | 8     |\n",
      "-----------------------------------------------------------\n",
      "| Viper     | 2     | 3          | 1     | 0     | 8     |\n",
      "-----------------------------------------------------------\n",
      "| Frost     | 2     | 2          | 1     | 1     | 7     |\n",
      "-----------------------------------------------------------\n",
      "| Reaper    | 1     | 2          | 0     | 0     | 5     |\n",
      "-----------------------------------------------------------\n",
      "Ranking ronda 3\n",
      "| Jugador   | Kills | Asistencias | Muertes | MVP  | Puntos |\n",
      "-----------------------------------------------------------\n",
      "| Blaze     | 5     | 2          | 2     | 1     | 15    |\n",
      "-----------------------------------------------------------\n",
      "| Shadow    | 3     | 3          | 1     | 1     | 11    |\n",
      "-----------------------------------------------------------\n",
      "| Viper     | 3     | 4          | 2     | 0     | 11    |\n",
      "-----------------------------------------------------------\n",
      "| Reaper    | 2     | 3          | 0     | 0     | 9     |\n",
      "-----------------------------------------------------------\n",
      "| Frost     | 2     | 3          | 1     | 1     | 8     |\n",
      "-----------------------------------------------------------\n",
      "Ranking ronda 4\n",
      "| Jugador   | Kills | Asistencias | Muertes | MVP  | Puntos |\n",
      "-----------------------------------------------------------\n",
      "| Shadow    | 5     | 4          | 1     | 2     | 18    |\n",
      "-----------------------------------------------------------\n",
      "| Blaze     | 6     | 2          | 3     | 1     | 17    |\n",
      "-----------------------------------------------------------\n",
      "| Viper     | 3     | 6          | 2     | 0     | 13    |\n",
      "-----------------------------------------------------------\n",
      "| Reaper    | 3     | 4          | 0     | 0     | 13    |\n",
      "-----------------------------------------------------------\n",
      "| Frost     | 3     | 4          | 2     | 1     | 11    |\n",
      "-----------------------------------------------------------\n",
      "Ranking ronda Final\n",
      "| Jugador   | Kills | Asistencias | Muertes | MVP  | Puntos |\n",
      "-----------------------------------------------------------\n",
      "| Shadow    | 6     | 6          | 2     | 2     | 22    |\n",
      "-----------------------------------------------------------\n",
      "| Blaze     | 6     | 3          | 3     | 1     | 18    |\n",
      "-----------------------------------------------------------\n",
      "| Viper     | 5     | 6          | 3     | 1     | 18    |\n",
      "-----------------------------------------------------------\n",
      "| Reaper    | 4     | 5          | 1     | 0     | 16    |\n",
      "-----------------------------------------------------------\n",
      "| Frost     | 4     | 5          | 2     | 1     | 15    |\n",
      "-----------------------------------------------------------\n"
     ]
    }
   ],
   "source": [
    "#Ejercicio 10: Simulación de partidas y ranking en shooter online\n",
    "\n",
    "rounds = [\n",
    "    {\n",
    "    'Shadow': {'kills': 2, 'assists': 1, 'deaths': True},\n",
    "    'Blaze': {'kills': 1, 'assists': 0, 'deaths': False},\n",
    "    'Viper': {'kills': 1, 'assists': 2, 'deaths': True},\n",
    "    'Frost': {'kills': 0, 'assists': 1, 'deaths': False},\n",
    "    'Reaper': {'kills': 1, 'assists': 1, 'deaths': False}\n",
    "    },\n",
    "    {\n",
    "    'Shadow': {'kills': 0, 'assists': 2, 'deaths': False},\n",
    "    'Blaze': {'kills': 2, 'assists': 0, 'deaths': True},\n",
    "    'Viper': {'kills': 1, 'assists': 1, 'deaths': False},\n",
    "    'Frost': {'kills': 2, 'assists': 1, 'deaths': True},\n",
    "    'Reaper': {'kills': 0, 'assists': 1, 'deaths': False}\n",
    "    },\n",
    "    {\n",
    "    'Shadow': {'kills': 1, 'assists': 0, 'deaths': False},\n",
    "    'Blaze': {'kills': 2, 'assists': 2, 'deaths': True},\n",
    "    'Viper': {'kills': 1, 'assists': 1, 'deaths': True},\n",
    "    'Frost': {'kills': 0, 'assists': 1, 'deaths': False},\n",
    "    'Reaper': {'kills': 1, 'assists': 1, 'deaths': False}\n",
    "    },\n",
    "    {\n",
    "    'Shadow': {'kills': 2, 'assists': 1, 'deaths': False},\n",
    "    'Blaze': {'kills': 1, 'assists': 0, 'deaths': True},\n",
    "    'Viper': {'kills': 0, 'assists': 2, 'deaths': False},\n",
    "    'Frost': {'kills': 1, 'assists': 1, 'deaths': True},\n",
    "    'Reaper': {'kills': 1, 'assists': 1, 'deaths': False}\n",
    "    },\n",
    "    {\n",
    "    'Shadow': {'kills': 1, 'assists': 2, 'deaths': True},\n",
    "    'Blaze': {'kills': 0, 'assists': 1, 'deaths': False},\n",
    "    'Viper': {'kills': 2, 'assists': 0, 'deaths': True},\n",
    "    'Frost': {'kills': 1, 'assists': 1, 'deaths': False},\n",
    "    'Reaper': {'kills': 1, 'assists': 1, 'deaths': True}\n",
    "    }\n",
    "]\n",
    "ranking(rounds)"
   ]
  }
 ],
 "metadata": {
  "kernelspec": {
   "display_name": "venv",
   "language": "python",
   "name": "python3"
  },
  "language_info": {
   "codemirror_mode": {
    "name": "ipython",
    "version": 3
   },
   "file_extension": ".py",
   "mimetype": "text/x-python",
   "name": "python",
   "nbconvert_exporter": "python",
   "pygments_lexer": "ipython3",
   "version": "3.12.9"
  }
 },
 "nbformat": 4,
 "nbformat_minor": 2
}
